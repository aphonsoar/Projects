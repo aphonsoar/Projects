{
 "cells": [
  {
   "cell_type": "code",
   "execution_count": 1,
   "id": "608629c9",
   "metadata": {},
   "outputs": [],
   "source": [
    "# Installation: https://docs.trymito.io/getting-started/installing-mito\n",
    "import mitosheet\n",
    "import pandas as pd"
   ]
  },
  {
   "cell_type": "code",
   "execution_count": 2,
   "id": "e97924aa",
   "metadata": {},
   "outputs": [],
   "source": [
    "df = pd.read_csv('C:\\\\Aphonso_C\\\\Git\\\\DSBD-UFPR\\\\Linguagens de Programação\\\\Python\\\\Aula 3 e 4\\\\SalesJan2009.csv')"
   ]
  },
  {
   "cell_type": "code",
   "execution_count": 3,
   "id": "b9598d27",
   "metadata": {},
   "outputs": [
    {
     "name": "stdout",
     "output_type": "stream",
     "text": [
      "<class 'pandas.core.frame.DataFrame'>\n",
      "RangeIndex: 998 entries, 0 to 997\n",
      "Data columns (total 12 columns):\n",
      " #   Column            Non-Null Count  Dtype  \n",
      "---  ------            --------------  -----  \n",
      " 0   Transaction_date  998 non-null    object \n",
      " 1   Product           998 non-null    object \n",
      " 2   Price             998 non-null    object \n",
      " 3   Payment_Type      998 non-null    object \n",
      " 4   Name              998 non-null    object \n",
      " 5   City              998 non-null    object \n",
      " 6   State             997 non-null    object \n",
      " 7   Country           998 non-null    object \n",
      " 8   Account_Created   998 non-null    object \n",
      " 9   Last_Login        998 non-null    object \n",
      " 10  Latitude          998 non-null    float64\n",
      " 11  Longitude         998 non-null    float64\n",
      "dtypes: float64(2), object(10)\n",
      "memory usage: 93.7+ KB\n"
     ]
    }
   ],
   "source": [
    "df.info()"
   ]
  },
  {
   "cell_type": "code",
   "execution_count": 4,
   "id": "3a852856-e6e8-41af-b015-4ce8eff9d755",
   "metadata": {},
   "outputs": [
    {
     "name": "stdout",
     "output_type": "stream",
     "text": [
      "<class 'pandas.core.frame.DataFrame'>\n",
      "RangeIndex: 998 entries, 0 to 997\n",
      "Data columns (total 12 columns):\n",
      " #   Column            Non-Null Count  Dtype  \n",
      "---  ------            --------------  -----  \n",
      " 0   Transaction_date  998 non-null    object \n",
      " 1   Product           998 non-null    object \n",
      " 2   Price             998 non-null    float64\n",
      " 3   Payment_Type      998 non-null    object \n",
      " 4   Name              998 non-null    object \n",
      " 5   City              998 non-null    object \n",
      " 6   State             997 non-null    object \n",
      " 7   Country           998 non-null    object \n",
      " 8   Account_Created   998 non-null    object \n",
      " 9   Last_Login        998 non-null    object \n",
      " 10  Latitude          998 non-null    float64\n",
      " 11  Longitude         998 non-null    float64\n",
      "dtypes: float64(3), object(9)\n",
      "memory usage: 93.7+ KB\n"
     ]
    }
   ],
   "source": [
    "df['Price'] = df['Price'].apply(lambda x: x.replace(',','.'))\n",
    "df['Price'] = df['Price'].astype(float)\n",
    "df.info()"
   ]
  },
  {
   "cell_type": "code",
   "execution_count": 5,
   "id": "2555b636-dd82-4f0c-984e-d827ef66c0bc",
   "metadata": {},
   "outputs": [
    {
     "data": {
      "application/vnd.jupyter.widget-view+json": {
       "model_id": "1ff660837cf243bda435a4fd738e93af",
       "version_major": 2,
       "version_minor": 0
      },
      "text/plain": [
       "MitoWidget(analysis_data_json='{\"analysisName\": \"UUID-2b587c41-9a51-4d39-9394-794c75b31163\", \"code\": {\"imports…"
      ]
     },
     "metadata": {},
     "output_type": "display_data"
    }
   ],
   "source": [
    "mitosheet.sheet(df, view_df=True)"
   ]
  },
  {
   "cell_type": "code",
   "execution_count": null,
   "id": "be3b1969-1d0b-483c-a157-b0fac6c00f97",
   "metadata": {},
   "outputs": [],
   "source": [
    "# MITO CODE START (DO NOT EDIT)\n",
    "\n",
    "from mitosheet import * # Import necessary functions from Mito\n",
    "register_analysis('UUID-2b587c41-9a51-4d39-9394-794c75b31163') # Let Mito know which analysis is being run\n",
    "\n",
    "# Pivoted df into df2\n",
    "unused_columns = df.columns.difference(set(['City']).union(set([])).union(set({'Price'})))\n",
    "tmp_df = df.drop(unused_columns, axis=1)\n",
    "pivot_table = tmp_df.pivot_table(\n",
    "    index=['City'],\n",
    "    values=['Price'],\n",
    "    aggfunc={'Price': ['count', 'mean', 'median', 'std', 'min', 'max']}\n",
    ")\n",
    "\n",
    "# Flatten the column headers\n",
    "pivot_table.columns = [flatten_column_header(col) for col in pivot_table.columns.values]\n",
    "\n",
    "# Reset the column name and the indexes\n",
    "df2 = pivot_table.reset_index()\n",
    "\n",
    "# Sorted Price count in df2 in descending order\n",
    "df2 = df2.sort_values(by='Price count', ascending=False, na_position='last')\n",
    "\n",
    "# Sorted Price count in df2 in ascending order\n",
    "df2 = df2.sort_values(by='Price count', ascending=True, na_position='first')\n",
    "\n",
    "# Sorted Price count in df2 in descending order\n",
    "df2 = df2.sort_values(by='Price count', ascending=False, na_position='last')\n",
    "\n",
    "# Sorted Price mean in df2 in descending order\n",
    "df2 = df2.sort_values(by='Price mean', ascending=False, na_position='last')\n",
    "\n",
    "  \n",
    "# MITO CODE END (DO NOT EDIT)"
   ]
  },
  {
   "cell_type": "code",
   "execution_count": 7,
   "id": "7b043b4b-fd2d-4076-9597-2a077abe9e43",
   "metadata": {},
   "outputs": [
    {
     "name": "stdout",
     "output_type": "stream",
     "text": [
      "OK\n"
     ]
    }
   ],
   "source": []
  },
  {
   "cell_type": "code",
   "execution_count": null,
   "id": "3c01c081-7667-4917-90cc-8de28826b95f",
   "metadata": {},
   "outputs": [],
   "source": []
  },
  {
   "cell_type": "code",
   "execution_count": null,
   "id": "16792cee-515d-4897-89a7-0f347f5b77e8",
   "metadata": {},
   "outputs": [],
   "source": []
  }
 ],
 "metadata": {
  "kernelspec": {
   "display_name": "Python 3",
   "language": "python",
   "name": "python3"
  },
  "language_info": {
   "codemirror_mode": {
    "name": "ipython",
    "version": 3
   },
   "file_extension": ".py",
   "mimetype": "text/x-python",
   "name": "python",
   "nbconvert_exporter": "python",
   "pygments_lexer": "ipython3",
   "version": "3.8.8"
  }
 },
 "nbformat": 4,
 "nbformat_minor": 5
}
