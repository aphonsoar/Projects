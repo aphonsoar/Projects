{
 "cells": [
  {
   "cell_type": "markdown",
   "id": "d947f817-7612-41f0-aaa2-f0e01be99d22",
   "metadata": {},
   "source": [
    "# Guess the number"
   ]
  },
  {
   "cell_type": "markdown",
   "id": "3a4fc281-6e3c-4da2-9ffb-caf52d752ca8",
   "metadata": {},
   "source": [
    "### Solving the \"Guess the number\" challenge from `Raspberry Pi Foundation`\n",
    "Link: https://projects.raspberrypi.org/en/projects/cd-beginner-python-sushi\n",
    "\n",
    "The goal is to make a guessing game in which the computer picks a number between 1 and 9, and the player has five chances to guess the number."
   ]
  },
  {
   "cell_type": "code",
   "execution_count": null,
   "id": "21fe4555-3d6f-4744-9b1d-e157e75c0072",
   "metadata": {},
   "outputs": [
    {
     "name": "stdout",
     "output_type": "stream",
     "text": [
      "Guess a number, from 1 to 9:\n",
      "This is your 1 try.\n"
     ]
    }
   ],
   "source": [
    "from random import randint as dice\n",
    "secret_number = int(dice(1,9))\n",
    "\n",
    "attempt=1\n",
    "\n",
    "print(\"Guess a number, from 1 to 9:\")\n",
    "print(\"This is your \" + str(attempt) + \" try.\")\n",
    "\n",
    "while attempt <= 5:\n",
    "  \n",
    "  attempt_number = int(input())\n",
    "\n",
    "  if secret_number == attempt_number:\n",
    "    print(\"You're right! Well done\")\n",
    "    print(\"The secret number was: \" + str(secret_number))\n",
    "    print(\"Game finished, start again.\")\n",
    "  else:\n",
    "    print(\"You're wrong, I'm sorry!\")\n",
    "    print(\"You still have \" + str(5-attempt) + \" attempt(s)\")\n",
    "    \n",
    "    if secret_number < attempt_number:\n",
    "      print(\"Tip: the number guessed is bigger than the secret number!\")\n",
    "    else:\n",
    "      print(\"Tip: the number guessed is smaller than the secret number!\")\n",
    "  \n",
    "  attempt = attempt+1\n",
    "\n",
    "print(\"The secret number was: \" + str(secret_number))\n",
    "print(\"Game finished, start again.\")"
   ]
  }
 ],
 "metadata": {
  "kernelspec": {
   "display_name": "Python 3",
   "language": "python",
   "name": "python3"
  },
  "language_info": {
   "codemirror_mode": {
    "name": "ipython",
    "version": 3
   },
   "file_extension": ".py",
   "mimetype": "text/x-python",
   "name": "python",
   "nbconvert_exporter": "python",
   "pygments_lexer": "ipython3",
   "version": "3.8.8"
  }
 },
 "nbformat": 4,
 "nbformat_minor": 5
}
